{
 "cells": [
  {
   "metadata": {},
   "cell_type": "markdown",
   "source": "# Youtube",
   "id": "eb6ace02cf894269"
  },
  {
   "metadata": {},
   "cell_type": "markdown",
   "source": [
    "🧠 Final Learning Plan: OOP in Python (Revised Order)\n",
    "\n",
    "🧱 Basics:\n",
    "\n",
    "    Defining a Class in Python ✅\n",
    "\n",
    "    Objects\n",
    "\n",
    "    The __init__ Method (Constructor)\n",
    "\n",
    "    Constructor, self, and Comparing Objects\n",
    "\n",
    "    Types of Variables\n",
    "\n",
    "    Instance Variables\n",
    "\n",
    "    Class Variables\n",
    "\n",
    "    Local Variables\n",
    "\n",
    "    Types of Methods\n",
    "\n",
    "    Instance Methods\n",
    "\n",
    "    Class Methods\n",
    "\n",
    "    Static Methods\n",
    "\n",
    "    Inner Class\n",
    "\n",
    "🧬 Core OOP Concepts:\n",
    "\n",
    "    Inheritance\n",
    "\n",
    "    Adding New Attributes and Behavior\n",
    "\n",
    "    Method Override\n",
    "\n",
    "    Polymorphism\n",
    "\n",
    "⚙️ Advanced Features:\n",
    "\n",
    "    Built-in Functions (like __str__, __eq__, etc.)\n",
    "\n",
    "    Built-in Module – operator\n",
    "\n",
    "    Why Operator Overloading?\n",
    "\n",
    "    How to Overload the Operators?\n",
    "\n",
    "🧰 Useful Utilities in OOP:\n",
    "\n",
    "    Logging\n",
    "\n",
    "    Decorators\n",
    "\n",
    "    Iterators\n",
    "\n",
    "    Generators"
   ],
   "id": "3df4c0ec274c5f90"
  },
  {
   "metadata": {},
   "cell_type": "markdown",
   "source": "## Defining a Class in Python",
   "id": "a76e2cc1fafa8353"
  },
  {
   "metadata": {
    "ExecuteTime": {
     "end_time": "2025-04-07T15:26:56.700826Z",
     "start_time": "2025-04-07T15:26:56.693275Z"
    }
   },
   "cell_type": "code",
   "source": [
    "class Computer:\n",
    "    def __init__(self):\n",
    "        self.name = \"name\"\n",
    "    def config(self):\n",
    "        print('i5, 16gb, 1tb')\n",
    "\n",
    "com1 = Computer()\n",
    "com1.config()"
   ],
   "id": "3138682ef7f05717",
   "outputs": [
    {
     "name": "stdout",
     "output_type": "stream",
     "text": [
      "i5, 16gb, 1tb\n"
     ]
    }
   ],
   "execution_count": 4
  },
  {
   "metadata": {},
   "cell_type": "markdown",
   "source": "## objects",
   "id": "7308e11c5a4f14df"
  },
  {
   "metadata": {
    "ExecuteTime": {
     "end_time": "2025-04-07T17:59:50.964488Z",
     "start_time": "2025-04-07T17:59:50.947661Z"
    }
   },
   "cell_type": "code",
   "source": [
    "com1 = Computer()\n",
    "com1.config()"
   ],
   "id": "5f01ccf47093b951",
   "outputs": [
    {
     "name": "stdout",
     "output_type": "stream",
     "text": [
      "i5, 16gb, 1tb\n"
     ]
    }
   ],
   "execution_count": 5
  },
  {
   "metadata": {},
   "cell_type": "markdown",
   "source": "##",
   "id": "c30b979a72b766d9"
  },
  {
   "metadata": {},
   "cell_type": "code",
   "outputs": [],
   "execution_count": null,
   "source": "",
   "id": "b8b8f9ca04d3c60d"
  }
 ],
 "metadata": {
  "kernelspec": {
   "name": "python3",
   "language": "python",
   "display_name": "Python 3 (ipykernel)"
  }
 },
 "nbformat": 5,
 "nbformat_minor": 9
}
