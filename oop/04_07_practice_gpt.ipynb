{
 "cells": [
  {
   "cell_type": "markdown",
   "id": "42eb23d1b6c5644f",
   "metadata": {},
   "source": [
    "# 🧠 Final Learning Plan: OOP in Python (Revised Order)\n",
    "\n",
    "🧱 Basics:\n",
    "\n",
    "    Defining a Class in Python ✅\n",
    "\n",
    "    Objects\n",
    "\n",
    "    The __init__ Method (Constructor)\n",
    "\n",
    "    Constructor, self, and Comparing Objects\n",
    "\n",
    "    Types of Variables\n",
    "\n",
    "    Instance Variables\n",
    "\n",
    "    Class Variables\n",
    "\n",
    "    Local Variables\n",
    "\n",
    "    Types of Methods\n",
    "\n",
    "    Instance Methods\n",
    "\n",
    "    Class Methods\n",
    "\n",
    "    Static Methods\n",
    "\n",
    "    Inner Class\n",
    "\n",
    "🧬 Core OOP Concepts:\n",
    "\n",
    "    Inheritance\n",
    "\n",
    "    Adding New Attributes and Behavior\n",
    "\n",
    "    Method Override\n",
    "\n",
    "    Polymorphism\n",
    "\n",
    "⚙️ Advanced Features:\n",
    "\n",
    "    Built-in Functions (like __str__, __eq__, etc.)\n",
    "\n",
    "    Built-in Module – operator\n",
    "\n",
    "    Why Operator Overloading?\n",
    "\n",
    "    How to Overload the Operators?\n",
    "\n",
    "🧰 Useful Utilities in OOP:\n",
    "\n",
    "    Logging\n",
    "\n",
    "    Decorators\n",
    "\n",
    "    Iterators\n",
    "\n",
    "    Generators"
   ]
  },
  {
   "cell_type": "markdown",
   "id": "40382f7ccf61911e",
   "metadata": {},
   "source": [
    "## Defining a Class in Python"
   ]
  },
  {
   "cell_type": "markdown",
   "id": "532c8e7b06d980cd",
   "metadata": {},
   "source": [
    "### Write a Python class called Book that takes title and author as input and has a method details() that prints the book's title and author in the format:\n"
   ]
  },
  {
   "cell_type": "code",
   "execution_count": 1,
   "id": "initial_id",
   "metadata": {
    "ExecuteTime": {
     "end_time": "2025-04-07T17:23:21.511875Z",
     "start_time": "2025-04-07T17:23:21.504869Z"
    },
    "collapsed": true
   },
   "outputs": [],
   "source": [
    "class Book:\n",
    "    def __init__(self,title,author):\n",
    "        self.title = title\n",
    "        self.author = author\n",
    "    def details(self):\n",
    "        print(f' Title: {self.title}, Author: {self.author}')"
   ]
  },
  {
   "cell_type": "markdown",
   "id": "5914b1f368da3c23",
   "metadata": {},
   "source": [
    "### Write a class Student that takes name and grade as input. It should have a method called show_info() that prints:"
   ]
  },
  {
   "cell_type": "code",
   "execution_count": null,
   "id": "61adf2cf803d532e",
   "metadata": {},
   "outputs": [],
   "source": [
    "class Student:\n",
    "    def __init__(self,name,grade):\n",
    "        self.name= name\n",
    "        self.grade= grade\n",
    "    def show_info(self):\n",
    "        print(f' Name: {self.name}, Grade: {self.grade}')"
   ]
  },
  {
   "cell_type": "markdown",
   "id": "940e53ebc78672ab",
   "metadata": {},
   "source": [
    "## Objects"
   ]
  },
  {
   "cell_type": "markdown",
   "id": "aa89adb55c153c87",
   "metadata": {},
   "source": [
    "### Write a class called Pen that takes color and type (like ballpoint or gel) as inputs. Create two objects and write a method pen_info() to print their information."
   ]
  },
  {
   "cell_type": "code",
   "execution_count": 4,
   "id": "3764f7ebcaadb5f3",
   "metadata": {
    "ExecuteTime": {
     "end_time": "2025-04-07T18:04:34.957420Z",
     "start_time": "2025-04-07T18:04:34.951461Z"
    }
   },
   "outputs": [
    {
     "name": "stdout",
     "output_type": "stream",
     "text": [
      " Color: blue, Type: ball-point\n",
      " Color: black, Type: gel\n"
     ]
    }
   ],
   "source": [
    "class Pen:\n",
    "    def __init__(self,color,type):\n",
    "        self.color = color\n",
    "        self.type = type\n",
    "\n",
    "    def pen_info(self):\n",
    "        print(f' Color: {self.color}, Type: {self.type}')\n",
    "\n",
    "p1 = Pen(\"blue\", \"ball-point\")\n",
    "p2 = Pen(\"black\", \"gel\")\n",
    "p1.pen_info()\n",
    "p2.pen_info()"
   ]
  },
  {
   "cell_type": "markdown",
   "id": "a23180b82f0dc414",
   "metadata": {},
   "source": [
    "### Write a class Mobile with attributes brand and price. Add a method get_info() that prints the mobile’s brand and price. Create one object and call the method"
   ]
  },
  {
   "cell_type": "code",
   "execution_count": 1,
   "id": "f2d267538f49f9b6",
   "metadata": {
    "ExecuteTime": {
     "end_time": "2025-04-07T18:07:46.203048Z",
     "start_time": "2025-04-07T18:07:46.196209Z"
    }
   },
   "outputs": [
    {
     "name": "stdout",
     "output_type": "stream",
     "text": [
      " Brand: IQoo, Price: 40000\n",
      " Brand: real-me, Price: 26000\n"
     ]
    }
   ],
   "source": [
    "class Mobile:\n",
    "    def __init__(self,brand,price):\n",
    "        self.brand = brand\n",
    "        self.price = price\n",
    "\n",
    "    def get_info(self):\n",
    "        print(f' Brand: {self.brand}, Price: {self.price}')\n",
    "\n",
    "m1 = Mobile(\"IQoo\", 40000)\n",
    "m2 = Mobile(\"real-me\", 26000)\n",
    "m1.get_info()\n",
    "m2.get_info()"
   ]
  },
  {
   "cell_type": "code",
   "execution_count": null,
   "id": "e72453df7ebc75b",
   "metadata": {},
   "outputs": [],
   "source": []
  }
 ],
 "metadata": {
  "kernelspec": {
   "display_name": "Python 3",
   "language": "python",
   "name": "python3"
  },
  "language_info": {
   "codemirror_mode": {
    "name": "ipython",
    "version": 3
   },
   "file_extension": ".py",
   "mimetype": "text/x-python",
   "name": "python",
   "nbconvert_exporter": "python",
   "pygments_lexer": "ipython3",
   "version": "3.9.13"
  }
 },
 "nbformat": 4,
 "nbformat_minor": 5
}
