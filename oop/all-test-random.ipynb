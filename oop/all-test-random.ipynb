{
 "cells": [
  {
   "cell_type": "code",
   "id": "initial_id",
   "metadata": {
    "collapsed": true,
    "ExecuteTime": {
     "end_time": "2025-04-07T15:54:14.508457Z",
     "start_time": "2025-04-07T15:54:14.500792Z"
    }
   },
   "source": [
    "a1 = [1,1,1,1,2,2,2,2]\n",
    "b1 = ['jan','feb','mar','apr','may','jun','jul','aug']\n",
    "c1 = [100,150,200,250,100,150,200,250]\n",
    "\n",
    "# Step 1: Create a product-wise dictionary\n",
    "product_data = {}\n",
    "\n",
    "for i in range(len(a1)):\n",
    "    prod_id = a1[i]\n",
    "    month = b1[i]\n",
    "    value = c1[i]\n",
    "\n",
    "    if prod_id not in product_data:\n",
    "        product_data[prod_id] = []\n",
    "\n",
    "    product_data[prod_id].append((month, value))\n",
    "\n",
    "# Step 2: Check the increase for each month\n",
    "for prod_id in product_data:\n",
    "    print(f\"\\nProduct {prod_id}:\")\n",
    "    data = product_data[prod_id]\n",
    "\n",
    "    for i in range(1, len(data)):\n",
    "        prev_month, prev_val = data[i-1]\n",
    "        curr_month, curr_val = data[i]\n",
    "        diff = curr_val - prev_val\n",
    "        print(f\"From {prev_month} to {curr_month}: +{diff}\")\n"
   ],
   "outputs": [
    {
     "name": "stdout",
     "output_type": "stream",
     "text": [
      "\n",
      "Product 1:\n",
      "From jan to feb: +50\n",
      "From feb to mar: +50\n",
      "From mar to apr: +50\n",
      "\n",
      "Product 2:\n",
      "From may to jun: +50\n",
      "From jun to jul: +50\n",
      "From jul to aug: +50\n"
     ]
    }
   ],
   "execution_count": 11
  }
 ],
 "metadata": {
  "kernelspec": {
   "display_name": "Python 3",
   "language": "python",
   "name": "python3"
  },
  "language_info": {
   "codemirror_mode": {
    "name": "ipython",
    "version": 2
   },
   "file_extension": ".py",
   "mimetype": "text/x-python",
   "name": "python",
   "nbconvert_exporter": "python",
   "pygments_lexer": "ipython2",
   "version": "2.7.6"
  }
 },
 "nbformat": 4,
 "nbformat_minor": 5
}
